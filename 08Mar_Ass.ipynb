{
 "cells": [
  {
   "cell_type": "code",
   "execution_count": 1,
   "id": "6c9c4d3c-570e-463a-9fe3-dfc860586fdb",
   "metadata": {},
   "outputs": [],
   "source": [
    "# Qus 1"
   ]
  },
  {
   "cell_type": "raw",
   "id": "62a0d3dc-4575-433a-b43f-2087f599634d",
   "metadata": {},
   "source": [
    "The Probability Density Function (PDF) is a fundamental concept in probability theory and statistics. It is used to descibe the probablity distribution of a continuous random variable.\n",
    "\n",
    "the PDF, denoted typically as f(x), is a function that assigns probabilities to the different possible outcomes of a continuous random variable X.\n",
    "Definition:\n",
    "    The PDF f(x) is a function such that for any two values a and b with a<=b,\n",
    "    Pr(a<=X<=b)=∫f(x)dx\n",
    "    where Pr(a<=X<=b) represents the probability that X falls within the interval [a,b]."
   ]
  },
  {
   "cell_type": "code",
   "execution_count": 2,
   "id": "39308369-c77f-4b95-ad8a-b879073fda64",
   "metadata": {},
   "outputs": [],
   "source": [
    "# Qus 2"
   ]
  },
  {
   "cell_type": "raw",
   "id": "35e12e08-a6b5-473f-b092-7982126d92d2",
   "metadata": {},
   "source": [
    "Probability distributions are mathematical functions that describe the likelihood of different outcomes occuring in a random experiment.\n",
    "\n",
    "Discrete Probability Distributions:\n",
    "    1. Bernoulli Distribution:\n",
    "        Represents the probability distribution of a random variable that takes the value 1 with probability p and the value 0 with probability 1-p,where 0<=p<=1.\n",
    "    \n",
    "    2.Binomial Distribution:\n",
    "        Describes the number of success in a fixed number of independentt bernoulli trials ,each with the same probability of success p.\n",
    "        \n",
    "    3. Possion Distribution:\n",
    "        Models the number of events occuring in a fixed interval of time or space , given a constant average rate of occurence λ.\n",
    "     \n",
    "    4. Normal (Gaussian) Distribution:\n",
    "        Describes a continuous random variable whose PDF is symmetric and bell-shaped . it is widely used due to the central limit theorem and is charateized by its mean and variance.\n",
    "        \n",
    "    5.Uniform Distribution:\n",
    "        Represents a continuous random variable where all intervals of the same length on the distribution support are equally probable.\n",
    "        \n",
    "        "
   ]
  },
  {
   "cell_type": "code",
   "execution_count": 3,
   "id": "7a0d1134-6324-4187-9cc4-7910779e3361",
   "metadata": {},
   "outputs": [],
   "source": [
    "# Qus 3"
   ]
  },
  {
   "cell_type": "code",
   "execution_count": 4,
   "id": "893a8864-0465-456b-ac78-874a0099ecb0",
   "metadata": {},
   "outputs": [
    {
     "name": "stdout",
     "output_type": "stream",
     "text": [
      "0.12951759566589174\n"
     ]
    }
   ],
   "source": [
    "import math\n",
    "\n",
    "mean=0.0\n",
    "std_dev=1.0\n",
    "\n",
    "x_value=1.5\n",
    "\n",
    "coefficient=1/(math.sqrt(2*math.pi)*std_dev)\n",
    "exponent_term=-((x_value-mean)**2)/(2*std_dev **2)\n",
    "pdf_at_x=coefficient * math.exp(exponent_term)\n",
    "print(pdf_at_x)"
   ]
  },
  {
   "cell_type": "code",
   "execution_count": 1,
   "id": "815d93ef-52cd-4f86-b5e2-622879bcd5af",
   "metadata": {},
   "outputs": [],
   "source": [
    "# Qus 4"
   ]
  },
  {
   "cell_type": "raw",
   "id": "d5cabac6-7bfa-434d-b406-6f38e2340f67",
   "metadata": {},
   "source": [
    "The Binomial distribution is a discrete probability distribution that describes the number of successes in fixed number of independent Bernoulli trails , each with the same probability of success denoted as p.\n",
    "\n",
    "The key properties of the Binomial distribution are as follows:\n",
    "    \n",
    "1. Fixed Number of Trails:The Binomial distribution applies when there are a fixed number n of independent trails , where each trail results in either success or failure.\n",
    "2.Two Possible Outcomes: Each trail has two poosic=ble outcomes:success or failure.\n",
    "3. Independence:The trails are independent of each other, meaning the outcome of one trail does not affect the outcomes of the others.\n",
    "4. Constant Probability of Success:The probability p of success is constant for each trail.\n",
    "Example:\n",
    "Coin Flipping:\n",
    "Example: Suppose you flip a fair coin (probability of heads p=0.5) 10 times. The number of heads obtained (successes) follows a Binomial distribution \n",
    "B(10,0.5).\n",
    "\n",
    "Medical Trials:\n",
    "Example: In a clinical trial, a new drug is tested on 100 patients, and each patient has a certain probability p of responding positively to the drug. The number of patients who respond positively (successes) can be modeled using a Binomial distribution B(100,p)."
   ]
  },
  {
   "cell_type": "code",
   "execution_count": 1,
   "id": "9973df8c-c816-4f6c-bf34-a13fc908973a",
   "metadata": {},
   "outputs": [],
   "source": [
    "# Qus 5"
   ]
  },
  {
   "cell_type": "code",
   "execution_count": 2,
   "id": "8171b7b0-9d91-404b-9546-4e489e124a0d",
   "metadata": {},
   "outputs": [
    {
     "data": {
      "image/png": "[encoded data removed]",
      "text/plain": [
       "<Figure size 800x600 with 1 Axes>"
      ]
     },
     "metadata": {},
     "output_type": "display_data"
    }
   ],
   "source": [
    "import numpy as np\n",
    "import matplotlib.pyplot as plt\n",
    "\n",
    "n=1000\n",
    "p=0.4\n",
    "\n",
    "sample=np.random.binomial(n,p,size=1000)\n",
    "\n",
    "\n",
    "plt.figure(figsize=(8,6))\n",
    "plt.hist(sample,bins=30,color=\"skyblue\",edgecolor=\"black\",alpha=0.7)\n",
    "\n",
    "plt.grid(True)\n",
    "plt.show()"
   ]
  },
  {
   "cell_type": "code",
   "execution_count": 3,
   "id": "ee9a97b4-8209-4010-a377-332134fcf291",
   "metadata": {},
   "outputs": [],
   "source": [
    "# Qus 6"
   ]
  },
  {
   "cell_type": "code",
   "execution_count": 4,
   "id": "60ab3f13-fb8c-4a45-be0a-0dc5d0ee6c21",
   "metadata": {},
   "outputs": [
    {
     "name": "stdout",
     "output_type": "stream",
     "text": [
      "0.8911780189141512\n"
     ]
    }
   ],
   "source": [
    "import math\n",
    "def poisson_cdf(k,mean):\n",
    "    cdf_value=0.0\n",
    "    for i in range(math.floor(k)+1):\n",
    "        cdf_value+=math.exp(-mean)*(mean**i)/math.factorial(i)\n",
    "    return cdf_value\n",
    "\n",
    "mean=2.5\n",
    "k_value=4\n",
    "\n",
    "cdf_at_k=poisson_cdf(k_value,mean)\n",
    "print(cdf_at_k)"
   ]
  },
  {
   "cell_type": "code",
   "execution_count": 5,
   "id": "fbeb05d2-14ea-4818-be02-2af5b0a7c771",
   "metadata": {},
   "outputs": [],
   "source": [
    "# Qus 7"
   ]
  },
  {
   "cell_type": "raw",
   "id": "df7ac7c2-0086-4530-a5d9-2311d8fb4cfb",
   "metadata": {},
   "source": [
    "1. Nature of Events:\n",
    "    Binomial distribution models the number of successes in a fixed number of trails with two outcomes.\n",
    "    Poisson distribution models the number of events occuring randomly over a fixed interval of time or space.\n",
    "    \n",
    "2. Assumption:\n",
    "    Binomial distribution assumes a fixed number of trails and constant probability of success per trail.\n",
    "    Poisson distribution assumes a constant average rate of events occuring independently over time or space.\n",
    "3. Use Cases:\n",
    "    Binomial distribution is used when dealing with a specific number of indepenent trails with binary outcomes.\n",
    "    Poisson distribution is used to model the occurence of rare events over a continuous inrterval.\n",
    "\n",
    "4. Limiting Cases:\n",
    "    The Poisson distribution can be considered a limiting case of the Binomial distribution when n (number of trails) approaches infinity and p (probability of success) approaches zero, while λ=np remains constant.  "
   ]
  },
  {
   "cell_type": "code",
   "execution_count": 6,
   "id": "5a357fb0-7dbe-46f5-9428-72b3b6dd823c",
   "metadata": {},
   "outputs": [],
   "source": [
    "# Qus 8"
   ]
  },
  {
   "cell_type": "code",
   "execution_count": 8,
   "id": "9fdd8f3b-43b0-40f7-b5ff-a680f0a9baff",
   "metadata": {},
   "outputs": [
    {
     "name": "stdout",
     "output_type": "stream",
     "text": [
      "4.935\n",
      "5.1667749999999995\n"
     ]
    }
   ],
   "source": [
    "import numpy as np\n",
    "\n",
    "mean=5\n",
    "sample_size=1000\n",
    "\n",
    "sample=np.random.poisson(mean,size=sample_size)\n",
    "\n",
    "sample_mean=np.mean(sample)\n",
    "sample_variance=np.var(sample)\n",
    "\n",
    "print(sample_mean)\n",
    "print(sample_variance)"
   ]
  },
  {
   "cell_type": "code",
   "execution_count": 9,
   "id": "7b71deae-2c92-4763-8f1c-5d8e2847831a",
   "metadata": {},
   "outputs": [],
   "source": [
    "# Qus 9"
   ]
  },
  {
   "cell_type": "raw",
   "id": "804c2731-5913-4db3-b79f-f8695fb8adae",
   "metadata": {},
   "source": [
    "Binomial Distribution:\n",
    "    The variance increases with np(1-p),where n is the number of trails and p is the probability of success.\n",
    "    the relationship between mean and variance:σ^2=np(1-p)\n",
    "    \n",
    "Poisson Distribution:\n",
    "    The variance is equal to the mean(λ),where λ is the average rate of events.\n",
    "    the relationship between mean and variance:σ^2=λ."
   ]
  },
  {
   "cell_type": "code",
   "execution_count": 10,
   "id": "49f090df-f29e-4f86-9ac2-6985090368d3",
   "metadata": {},
   "outputs": [],
   "source": [
    "# Qus 10"
   ]
  },
  {
   "cell_type": "code",
   "execution_count": null,
   "id": "ad86b4ad-556e-4d56-8d6f-f00b69e68d6d",
   "metadata": {},
   "outputs": [],
   "source": [
    "In a noramal distribution (also known as Gaussian distribution), the least frequent data points typically appear farther away from the mean towards the trails  "
   ]
  }
 ],
 "metadata": {
  "kernelspec": {
   "display_name": "Python 3 (ipykernel)",
   "language": "python",
   "name": "python3"
  },
  "language_info": {
   "codemirror_mode": {
    "name": "ipython",
    "version": 3
   },
   "file_extension": ".py",
   "mimetype": "text/x-python",
   "name": "python",
   "nbconvert_exporter": "python",
   "pygments_lexer": "ipython3",
   "version": "3.10.8"
  }
 },
 "nbformat": 4,
 "nbformat_minor": 5
}
